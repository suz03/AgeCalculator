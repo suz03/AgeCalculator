{
 "cells": [
  {
   "cell_type": "code",
   "execution_count": 2,
   "id": "edc91dee",
   "metadata": {},
   "outputs": [
    {
     "name": "stdout",
     "output_type": "stream",
     "text": [
      "Enter the person's age in years: 12\n",
      "Months: 144\n",
      "Weeks: 626.13\n",
      "Days: 4380\n",
      "Hours: 105120\n",
      "Minutes: 6307200\n",
      "Seconds: 378432000\n"
     ]
    }
   ],
   "source": [
    "age = int(input(\"Enter the person's age in years: \"))\n",
    "\n",
    "months = age * 12\n",
    "weeks = age * 52.1775  # Approximate weeks in a year\n",
    "days = age * 365\n",
    "hours = days * 24\n",
    "minutes = hours * 60\n",
    "seconds = minutes * 60\n",
    "\n",
    "# Display the results\n",
    "print(\"Months:\", months)\n",
    "print(\"Weeks:\", weeks)\n",
    "print(\"Days:\", days)\n",
    "print(\"Hours:\", hours)\n",
    "print(\"Minutes:\", minutes)\n",
    "print(\"Seconds:\", seconds)\n"
   ]
  },
  {
   "cell_type": "code",
   "execution_count": null,
   "id": "f5ffb686",
   "metadata": {},
   "outputs": [],
   "source": []
  }
 ],
 "metadata": {
  "kernelspec": {
   "display_name": "Python 3 (ipykernel)",
   "language": "python",
   "name": "python3"
  },
  "language_info": {
   "codemirror_mode": {
    "name": "ipython",
    "version": 3
   },
   "file_extension": ".py",
   "mimetype": "text/x-python",
   "name": "python",
   "nbconvert_exporter": "python",
   "pygments_lexer": "ipython3",
   "version": "3.11.3"
  }
 },
 "nbformat": 4,
 "nbformat_minor": 5
}
